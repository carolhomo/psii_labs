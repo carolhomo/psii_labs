{
  "nbformat": 4,
  "nbformat_minor": 0,
  "metadata": {
    "colab": {
      "provenance": []
    },
    "kernelspec": {
      "name": "python3",
      "display_name": "Python 3"
    },
    "language_info": {
      "name": "python"
    }
  },
  "cells": [
    {
      "cell_type": "markdown",
      "source": [
        "# Практическая работа 8: Создание простой рекомендательной системы\n",
        "## Цель: Изучить основные методы создания простых рекомендательных систем и их применение для предсказания предпочтений пользователей.\n",
        "\n",
        "## Шаги выполнения:\n",
        "Изучение методов рекомендательных систем.\n",
        "\n",
        "## Ознакомление с основными методами рекомендательных систем, включая Collaborative Filtering и Content-Based Filtering.\n",
        "## Программирование простой рекомендательной системы на основе Collaborative Filtering.\n",
        "\n",
        "### Написание кода для создания простой рекомендательной системы на основе Collaborative Filtering с использованием библиотеки surprise.\n",
        "### Программирование простой рекомендательной системы на основе Content-Based Filtering.\n",
        "\n",
        "### Написание кода для создания простой рекомендательной системы на основе Content-Based Filtering с использованием библиотеки scikit-learn.\n",
        "### 1. Collaborative Filtering с использованием библиотеки surprise"
      ],
      "metadata": {
        "id": "4tKQDwZD-A54"
      }
    },
    {
      "cell_type": "code",
      "source": [
        "!pip install surprise"
      ],
      "metadata": {
        "colab": {
          "base_uri": "https://localhost:8080/"
        },
        "id": "0ZxE29Cv-eRZ",
        "outputId": "0b4d4d84-0ed7-426d-ed3d-ff7848f962cc"
      },
      "execution_count": 3,
      "outputs": [
        {
          "output_type": "stream",
          "name": "stdout",
          "text": [
            "Requirement already satisfied: surprise in /usr/local/lib/python3.10/dist-packages (0.1)\n",
            "Requirement already satisfied: scikit-surprise in /usr/local/lib/python3.10/dist-packages (from surprise) (1.1.4)\n",
            "Requirement already satisfied: joblib>=1.2.0 in /usr/local/lib/python3.10/dist-packages (from scikit-surprise->surprise) (1.4.2)\n",
            "Requirement already satisfied: numpy>=1.19.5 in /usr/local/lib/python3.10/dist-packages (from scikit-surprise->surprise) (1.25.2)\n",
            "Requirement already satisfied: scipy>=1.6.0 in /usr/local/lib/python3.10/dist-packages (from scikit-surprise->surprise) (1.11.4)\n"
          ]
        }
      ]
    },
    {
      "cell_type": "code",
      "source": [
        "import pandas as pd\n",
        "from surprise import Dataset, Reader, KNNBasic\n",
        "from surprise.model_selection import train_test_split\n",
        "from surprise.accuracy import rmse\n",
        "\n",
        "# Создание примера данных\n",
        "ratings_dict = {\n",
        "    \"userID\": [1, 1, 1, 2, 2, 3, 3, 3],\n",
        "    \"itemID\": [101, 102, 103, 101, 104, 102, 103, 104],\n",
        "    \"rating\": [4, 5, 3, 5, 4, 2, 4, 5]\n",
        "}\n",
        "ratings_df = pd.DataFrame(ratings_dict)\n",
        "\n",
        "# Сохранение данных в csv-файл\n",
        "ratings_df.to_csv('ratings.csv', index=False)\n",
        "\n",
        "# Загрузка данных\n",
        "reader = Reader(line_format='user item rating', sep=',', rating_scale=(1, 5))\n",
        "data = Dataset.load_from_df(ratings_df[['userID', 'itemID', 'rating']], reader)\n",
        "\n",
        "# Разделение данных на обучающий и тестовый наборы\n",
        "train_set, test_set = train_test_split(data, test_size=0.2, random_state=42)\n",
        "\n",
        "# Инициализация модели и обучение\n",
        "model = KNNBasic()\n",
        "model.fit(train_set)\n",
        "\n",
        "# Предсказание оценок для тестового набора\n",
        "predictions = model.test(test_set)\n",
        "\n",
        "# Вычисление RMSE (Root Mean Squared Error)\n",
        "accuracy = rmse(predictions)\n",
        "print(\"RMSE:\", accuracy)"
      ],
      "metadata": {
        "colab": {
          "base_uri": "https://localhost:8080/"
        },
        "id": "Jyhbid_r-NUu",
        "outputId": "c6368d87-813b-4be0-b052-091ca1e34b0d"
      },
      "execution_count": 5,
      "outputs": [
        {
          "output_type": "stream",
          "name": "stdout",
          "text": [
            "Computing the msd similarity matrix...\n",
            "Done computing similarity matrix.\n",
            "RMSE: 1.0865\n",
            "RMSE: 1.086533734200441\n"
          ]
        }
      ]
    },
    {
      "cell_type": "markdown",
      "source": [
        "### Content-Based Filtering с использованием библиотеки scikit-learn"
      ],
      "metadata": {
        "id": "aCyFUrMV-UWY"
      }
    },
    {
      "cell_type": "code",
      "execution_count": 6,
      "metadata": {
        "id": "8VqtBkfn9xIP",
        "colab": {
          "base_uri": "https://localhost:8080/"
        },
        "outputId": "dc77c2fb-98e3-4015-f49c-3851aa228f82"
      },
      "outputs": [
        {
          "output_type": "stream",
          "name": "stdout",
          "text": [
            "Recommendations for 'The Shawshank Redemption': ['Pulp Fiction', 'The Lord of the Rings: The Return of the King', 'The Godfather', 'The Dark Knight']\n"
          ]
        }
      ],
      "source": [
        "from sklearn.feature_extraction.text import TfidfVectorizer\n",
        "from sklearn.metrics.pairwise import cosine_similarity\n",
        "\n",
        "# Пример данных о фильмах (название, описание)\n",
        "movies = [\n",
        "    \"The Shawshank Redemption\", \"The Godfather\", \"The Dark Knight\",\n",
        "    \"Pulp Fiction\", \"The Lord of the Rings: The Return of the King\"\n",
        "]\n",
        "descriptions = [\n",
        "    \"Two imprisoned men bond over a number of years, finding solace and eventual redemption through acts of common decency.\",\n",
        "    \"The aging patriarch of an organized crime dynasty transfers control of his clandestine empire to his reluctant son.\",\n",
        "    \"When the menace known as The Joker emerges from his mysterious past, he wreaks havoc and chaos on the people of Gotham.\",\n",
        "    \"The lives of two mob hitmen, a boxer, a gangster's wife, and a pair of diner bandits intertwine in four tales of violence and redemption.\",\n",
        "    \"Gandalf and Aragorn lead the World of Men against Sauron's army to draw his gaze from Frodo and Sam as they approach Mount Doom with the One Ring.\"\n",
        "]\n",
        "\n",
        "# Преобразование текстов описаний в TF-IDF векторы\n",
        "vectorizer = TfidfVectorizer()\n",
        "tfidf_matrix = vectorizer.fit_transform(descriptions)\n",
        "\n",
        "# Вычисление сходства между фильмами на основе косинусного сходства\n",
        "cosine_sim = cosine_similarity(tfidf_matrix, tfidf_matrix)\n",
        "\n",
        "# Функция для получения рекомендаций на основе сходства\n",
        "def recommend(movie_index, similarity_matrix, movies_list):\n",
        "    sim_scores = list(enumerate(similarity_matrix[movie_index]))\n",
        "    sim_scores = sorted(sim_scores, key=lambda x: x[1], reverse=True)\n",
        "    sim_scores = sim_scores[1:6]  # Исключаем сам фильм\n",
        "    movie_indices = [i[0] for i in sim_scores]\n",
        "    return [movies_list[i] for i in movie_indices]\n",
        "\n",
        "# Получение рекомендаций для фильма \"The Shawshank Redemption\" (индекс 0)\n",
        "recommendations = recommend(0, cosine_sim, movies)\n",
        "print(\"Recommendations for 'The Shawshank Redemption':\", recommendations)\n"
      ]
    },
    {
      "cell_type": "markdown",
      "source": [
        "## Выводы:\n",
        "В этой практике вы узнали, как создавать простые рекомендательные системы, используя подходы Collaborative Filtering и Content-Based Filtering.\n",
        "\n",
        "Я узнал как создавать примерные данные для тестирования и обучения моделей.\n",
        "\n",
        "\n",
        "\n",
        "\n",
        "\n",
        "\n",
        "\n"
      ],
      "metadata": {
        "id": "SlGOMU-v_Gic"
      }
    }
  ]
}