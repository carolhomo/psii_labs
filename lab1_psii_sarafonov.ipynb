{
  "nbformat": 4,
  "nbformat_minor": 0,
  "metadata": {
    "colab": {
      "provenance": []
    },
    "kernelspec": {
      "name": "python3",
      "display_name": "Python 3"
    },
    "language_info": {
      "name": "python"
    }
  },
  "cells": [
    {
      "cell_type": "markdown",
      "source": [
        "## Цель\n",
        "Изучить основные методы оценки качества модели машинного обучения и их применение для анализа производительности и обобщающей способности модели.\n",
        "\n",
        "## Шаги выполнения\n",
        "Изучение метрик оценки качества модели.\n",
        "\n",
        "Применение метрик к обученной модели машинного обучения.\n",
        "\n",
        "Анализ кривых ROC и PR.\n",
        "\n",
        "Сравнение моделей.\n",
        "\n",
        "\n",
        "## Библиотеки\n",
        "scikit-learn\n",
        "\n",
        "Matplotlib\n",
        "\n",
        "\n",
        "## Исходные данные\n",
        "Набор данных о раке молочной железы из библиотеки scikit-learn.\n",
        "\n",
        "## Исследование метрик оценки качества модели\n",
        "Изучим основные метрики:\n",
        "\n",
        "Точность (accuracy): доля правильно предсказанных наблюдений.\n",
        "\n",
        "Полнота (recall): способность модели находить все положительные наблюдения.\n",
        "\n",
        "Точность (precision): доля правильно предсказанных положительных наблюдений.\n",
        "\n",
        "F1-мера: гармоническое среднее точности и полноты.\n",
        "\n",
        "ROC-AUC: площадь под кривой ROC, показывает способность модели различать классы.\n",
        "\n"
      ],
      "metadata": {
        "id": "kWrmydeLWDlE"
      }
    },
    {
      "cell_type": "code",
      "execution_count": 2,
      "metadata": {
        "id": "LmiZy0WlPojx"
      },
      "outputs": [],
      "source": [
        "from sklearn.datasets import load_breast_cancer\n",
        "from sklearn.model_selection import train_test_split\n",
        "from sklearn.ensemble import RandomForestClassifier"
      ]
    },
    {
      "cell_type": "markdown",
      "source": [
        "## Загрузка данных"
      ],
      "metadata": {
        "id": "RBHf9_G6Vmxd"
      }
    },
    {
      "cell_type": "code",
      "source": [
        "data = load_breast_cancer()\n",
        "X = data.data\n",
        "y = data.target"
      ],
      "metadata": {
        "id": "CqUQmD7BVnOk"
      },
      "execution_count": 3,
      "outputs": []
    },
    {
      "cell_type": "markdown",
      "source": [
        " ## разделение датасета"
      ],
      "metadata": {
        "id": "cyZIROcpW_vm"
      }
    },
    {
      "cell_type": "code",
      "source": [
        "X_train, X_test, y_train, y_test = train_test_split(X, y, test_size=0.3, random_state=42)"
      ],
      "metadata": {
        "id": "4VvIGlycVp0W"
      },
      "execution_count": 4,
      "outputs": []
    },
    {
      "cell_type": "markdown",
      "source": [
        "## Обучение модели"
      ],
      "metadata": {
        "id": "0fQktgt3XEQ9"
      }
    },
    {
      "cell_type": "code",
      "source": [
        "clf = RandomForestClassifier(random_state=42)\n",
        "clf.fit(X_train, y_train)"
      ],
      "metadata": {
        "id": "2TQZ0cogXEbO"
      },
      "execution_count": null,
      "outputs": []
    },
    {
      "cell_type": "markdown",
      "source": [
        "## Предсказание классов и вероятностей"
      ],
      "metadata": {
        "id": "5_-Ba4UAW7Fo"
      }
    },
    {
      "cell_type": "code",
      "source": [
        "y_pred = clf.predict(X_test)\n",
        "y_pred_probabilities = clf.predict_proba(X_test)[:, 1]"
      ],
      "metadata": {
        "id": "9Glkr1txW6h6"
      },
      "execution_count": 8,
      "outputs": []
    },
    {
      "cell_type": "markdown",
      "source": [
        "## Расчет метрик"
      ],
      "metadata": {
        "id": "ZYUCkEd7XQ5_"
      }
    },
    {
      "cell_type": "code",
      "source": [
        "accuracy = accuracy_score(y_test, y_pred)\n",
        "precision = precision_score(y_test, y_pred)\n",
        "recall = recall_score(y_test, y_pred)\n",
        "f1 = f1_score(y_test, y_pred)\n",
        "roc_auc = roc_auc_score(y_test, y_pred_probabilities)\n",
        "\n",
        "print(f'Accuracy: {accuracy}')\n",
        "print(f'Precision: {precision}')\n",
        "print(f'Recall: {recall}')\n",
        "print(f'F1 Score: {f1}')\n",
        "print(f'ROC AUC Score: {roc_auc}')\n"
      ],
      "metadata": {
        "colab": {
          "base_uri": "https://localhost:8080/"
        },
        "id": "pbDd3GKwVsbC",
        "outputId": "96ac7296-b334-4ce4-8293-7f89081a966c"
      },
      "execution_count": 5,
      "outputs": [
        {
          "output_type": "stream",
          "name": "stdout",
          "text": [
            "Accuracy: 0.9707602339181286\n",
            "Precision: 0.963963963963964\n",
            "Recall: 0.9907407407407407\n",
            "F1 Score: 0.9771689497716894\n",
            "ROC AUC Score: 0.9968400940623163\n"
          ]
        }
      ]
    },
    {
      "cell_type": "markdown",
      "source": [
        "## Построение кривых ROC и PR"
      ],
      "metadata": {
        "id": "ztf1BH-UXUM6"
      }
    },
    {
      "cell_type": "code",
      "source": [
        "from sklearn.metrics import roc_curve, precision_recall_curve\n",
        "import matplotlib.pyplot as plt"
      ],
      "metadata": {
        "id": "q0s_YaJKV0Ga"
      },
      "execution_count": 9,
      "outputs": []
    },
    {
      "cell_type": "code",
      "source": [
        "## Кривая Precision-Recall"
      ],
      "metadata": {
        "id": "zCyjcdKNXgyX"
      },
      "execution_count": 10,
      "outputs": []
    },
    {
      "cell_type": "code",
      "source": [
        "precision, recall, thresholds = precision_recall_curve(y_test, y_pred_probabilities)\n",
        "plt.plot(recall, precision)\n",
        "plt.xlabel('Recall')\n",
        "plt.ylabel('Precision')\n",
        "plt.title('Precision-Recall Curve')\n",
        "plt.show()"
      ],
      "metadata": {
        "colab": {
          "base_uri": "https://localhost:8080/",
          "height": 472
        },
        "id": "tQgT6EvtVtYp",
        "outputId": "a31f6357-255d-4e53-a73e-3298ec421570"
      },
      "execution_count": 11,
      "outputs": [
        {
          "output_type": "display_data",
          "data": {
            "text/plain": [
              "<Figure size 640x480 with 1 Axes>"
            ],
            "image/png": "[encoded data removed]"
          },
          "metadata": {}
        }
      ]
    },
    {
      "cell_type": "markdown",
      "source": [
        "## Кривая ROC"
      ],
      "metadata": {
        "id": "uq5PiNv3XYoq"
      }
    },
    {
      "cell_type": "code",
      "source": [
        "fpr, tpr, thresholds = roc_curve(y_test, y_pred_probabilities)\n",
        "plt.plot(fpr, tpr)\n",
        "plt.xlabel('False Positive Rate')\n",
        "plt.ylabel('True Positive Rate')\n",
        "plt.title('ROC Curve')\n",
        "plt.show()"
      ],
      "metadata": {
        "colab": {
          "base_uri": "https://localhost:8080/",
          "height": 472
        },
        "id": "B_25KBizXWre",
        "outputId": "9b601f52-ba69-4ae3-bd7e-ff9af940eeb9"
      },
      "execution_count": 12,
      "outputs": [
        {
          "output_type": "display_data",
          "data": {
            "text/plain": [
              "<Figure size 640x480 with 1 Axes>"
            ],
            "image/png": "[encoded data removed]"
          },
          "metadata": {}
        }
      ]
    },
    {
      "cell_type": "markdown",
      "source": [
        "## Сравнение моделей"
      ],
      "metadata": {
        "id": "3ClFVlawXoqY"
      }
    },
    {
      "cell_type": "code",
      "source": [
        "from sklearn.linear_model import LogisticRegression\n",
        "from sklearn.svm import SVC\n",
        "\n",
        "# Предположим, у нас есть несколько моделей: Logistic Regression, SVC, Random Forest\n",
        "model1 = LogisticRegression(random_state=42)\n",
        "model2 = SVC(probability=True, random_state=42)\n",
        "model3 = RandomForestClassifier(random_state=42)\n",
        "\n",
        "models = [model1, model2, model3]\n",
        "model_names = [\"Logistic Regression\", \"SVC\", \"Random Forest\"]\n",
        "accuracies = []\n",
        "\n",
        "for model in models:\n",
        "    model.fit(X_train, y_train)\n",
        "    y_pred = model.predict(X_test)\n",
        "    accuracy = accuracy_score(y_test, y_pred)\n",
        "    accuracies.append(accuracy)\n",
        "\n",
        "# Вывод результатов сравнения\n",
        "for name, accuracy in zip(model_names, accuracies):\n",
        "    print(f'{name} Accuracy: {accuracy}')"
      ],
      "metadata": {
        "colab": {
          "base_uri": "https://localhost:8080/"
        },
        "id": "AELh82DEXnfg",
        "outputId": "fff951c5-ca2e-4cef-be61-6a74f484d807"
      },
      "execution_count": 13,
      "outputs": [
        {
          "output_type": "stream",
          "name": "stderr",
          "text": [
            "/usr/local/lib/python3.10/dist-packages/sklearn/linear_model/_logistic.py:458: ConvergenceWarning: lbfgs failed to converge (status=1):\n",
            "STOP: TOTAL NO. of ITERATIONS REACHED LIMIT.\n",
            "\n",
            "Increase the number of iterations (max_iter) or scale the data as shown in:\n",
            "    https://scikit-learn.org/stable/modules/preprocessing.html\n",
            "Please also refer to the documentation for alternative solver options:\n",
            "    https://scikit-learn.org/stable/modules/linear_model.html#logistic-regression\n",
            "  n_iter_i = _check_optimize_result(\n"
          ]
        },
        {
          "output_type": "stream",
          "name": "stdout",
          "text": [
            "Logistic Regression Accuracy: 0.9707602339181286\n",
            "SVC Accuracy: 0.935672514619883\n",
            "Random Forest Accuracy: 0.9707602339181286\n"
          ]
        }
      ]
    },
    {
      "cell_type": "markdown",
      "source": [
        "## Заключение\n",
        "В данной лабораторной работе были изучены основные метрики оценки качества модели машинного обучения и их применение для анализа производительности\n",
        "и обобщающей способности модели.\n",
        "\n",
        "Были построены кривые ROC и PR для визуального анализа производительности модели.\n",
        "\n",
        "Также было произведено сравнение нескольких моделей по метрике точности."
      ],
      "metadata": {
        "id": "PL6VNd4UX4pI"
      }
    }
  ]
}