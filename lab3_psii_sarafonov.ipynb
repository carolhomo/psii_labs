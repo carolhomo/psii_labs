{
  "nbformat": 4,
  "nbformat_minor": 0,
  "metadata": {
    "colab": {
      "provenance": []
    },
    "kernelspec": {
      "name": "python3",
      "display_name": "Python 3"
    },
    "language_info": {
      "name": "python"
    }
  },
  "cells": [
    {
      "cell_type": "markdown",
      "source": [
        "# Практическая работа 3: Перекрестная проверка"
      ],
      "metadata": {
        "id": "MbOAO4tBcjve"
      }
    },
    {
      "cell_type": "markdown",
      "source": [
        "## Цель\n",
        "Изучить метод кросс-валидации для оценки производительности модели машинного обучения и его применение для достоверной оценки обобщающей способности модели.\n",
        "\n",
        "## Шаги выполнения\n",
        "* Изучение метода кросс-валидации.\n",
        "* Применение кросс-валидации к модели машинного обучения.\n",
        "* Анализ результатов кросс-валидации.\n",
        "* Использование кросс-валидации для выбора модели.\n",
        "* Дополнительные задания.\n",
        "\n",
        "\n",
        "## Оборудование и инструменты\n",
        "scikit-learn\n",
        "\n",
        "## Исходные данные\n",
        "* Набор данных о раке молочной железы из библиотеки scikit-learn.\n",
        "* Изучение метода кросс-валидации\n",
        "* Кросс-валидация — это метод оценки модели, который используется для проверки её способности обобщать результаты на новых данных. Он включает в себя разделение данных на несколько частей (наборов) и обучение модели на одном подмножестве данных, а тестирование на другом. Основные типы кросс-валидации включают K-Fold, Stratified K-Fold и Leave-One-Out.\n",
        "\n",
        "## Применение кросс-валидации к модели машинного обучения"
      ],
      "metadata": {
        "id": "3IL6DQaUdhWw"
      }
    },
    {
      "cell_type": "code",
      "source": [
        "from sklearn.datasets import load_breast_cancer\n",
        "from sklearn.model_selection import cross_val_score\n",
        "from sklearn.ensemble import RandomForestClassifier\n",
        "\n",
        "# Загрузка данных\n",
        "data = load_breast_cancer()\n",
        "X = data.data\n",
        "y = data.target\n"
      ],
      "metadata": {
        "id": "hrFR0kQ1c_lH"
      },
      "execution_count": 1,
      "outputs": []
    },
    {
      "cell_type": "code",
      "source": [
        "# Определение модели\n",
        "model = RandomForestClassifier(random_state=42)\n",
        "\n",
        "# Применение кросс-валидации\n",
        "cv_scores = cross_val_score(model, X, y, cv=5)\n",
        "\n",
        "# Вывод средней оценки производительности модели\n",
        "print(\"Cross-Validation Mean Score:\", cv_scores.mean())"
      ],
      "metadata": {
        "colab": {
          "base_uri": "https://localhost:8080/"
        },
        "id": "ScLrmNf9dAD4",
        "outputId": "0e6abde2-da1e-4a34-dffe-2e833334382f"
      },
      "execution_count": 2,
      "outputs": [
        {
          "output_type": "stream",
          "name": "stdout",
          "text": [
            "Cross-Validation Mean Score: 0.9560937742586555\n"
          ]
        }
      ]
    },
    {
      "cell_type": "markdown",
      "source": [
        "### Анализ результатов кросс-валидации"
      ],
      "metadata": {
        "id": "maMQuGJodD6Z"
      }
    },
    {
      "cell_type": "code",
      "source": [
        "# Вывод оценок производительности на каждом из разбиений\n",
        "for i, score in enumerate(cv_scores):\n",
        "    print(f\"Fold {i+1} Score:\", score)"
      ],
      "metadata": {
        "colab": {
          "base_uri": "https://localhost:8080/"
        },
        "id": "HQV2V_1hdCEw",
        "outputId": "ff84b40c-0af8-4caf-d015-39a48d9b8571"
      },
      "execution_count": 3,
      "outputs": [
        {
          "output_type": "stream",
          "name": "stdout",
          "text": [
            "Fold 1 Score: 0.9210526315789473\n",
            "Fold 2 Score: 0.9385964912280702\n",
            "Fold 3 Score: 0.9824561403508771\n",
            "Fold 4 Score: 0.9649122807017544\n",
            "Fold 5 Score: 0.9734513274336283\n"
          ]
        }
      ]
    },
    {
      "cell_type": "markdown",
      "source": [
        "### Использование кросс-валидации для выбора модели"
      ],
      "metadata": {
        "id": "Zkwzr7Z2dH6-"
      }
    },
    {
      "cell_type": "code",
      "source": [
        "from sklearn.linear_model import LogisticRegression\n",
        "from sklearn.svm import SVC\n",
        "\n",
        "# Определение списка моделей\n",
        "models = [RandomForestClassifier(random_state=42), LogisticRegression(random_state=42), SVC(random_state=42)]\n",
        "model_names = [\"RandomForestClassifier\", \"LogisticRegression\", \"SVC\"]\n",
        "\n",
        "# Применение кросс-валидации к каждой модели\n",
        "for model, name in zip(models, model_names):\n",
        "    cv_scores = cross_val_score(model, X, y, cv=5)\n",
        "    print(f\"{name} Mean Score:\", cv_scores.mean())"
      ],
      "metadata": {
        "colab": {
          "base_uri": "https://localhost:8080/"
        },
        "id": "BcxShhxxdGO4",
        "outputId": "3444fae3-5ead-4350-9894-8ee0dad0f229"
      },
      "execution_count": 4,
      "outputs": [
        {
          "output_type": "stream",
          "name": "stdout",
          "text": [
            "RandomForestClassifier Mean Score: 0.9560937742586555\n"
          ]
        },
        {
          "output_type": "stream",
          "name": "stderr",
          "text": [
            "/usr/local/lib/python3.10/dist-packages/sklearn/linear_model/_logistic.py:458: ConvergenceWarning: lbfgs failed to converge (status=1):\n",
            "STOP: TOTAL NO. of ITERATIONS REACHED LIMIT.\n",
            "\n",
            "Increase the number of iterations (max_iter) or scale the data as shown in:\n",
            "    https://scikit-learn.org/stable/modules/preprocessing.html\n",
            "Please also refer to the documentation for alternative solver options:\n",
            "    https://scikit-learn.org/stable/modules/linear_model.html#logistic-regression\n",
            "  n_iter_i = _check_optimize_result(\n",
            "/usr/local/lib/python3.10/dist-packages/sklearn/linear_model/_logistic.py:458: ConvergenceWarning: lbfgs failed to converge (status=1):\n",
            "STOP: TOTAL NO. of ITERATIONS REACHED LIMIT.\n",
            "\n",
            "Increase the number of iterations (max_iter) or scale the data as shown in:\n",
            "    https://scikit-learn.org/stable/modules/preprocessing.html\n",
            "Please also refer to the documentation for alternative solver options:\n",
            "    https://scikit-learn.org/stable/modules/linear_model.html#logistic-regression\n",
            "  n_iter_i = _check_optimize_result(\n",
            "/usr/local/lib/python3.10/dist-packages/sklearn/linear_model/_logistic.py:458: ConvergenceWarning: lbfgs failed to converge (status=1):\n",
            "STOP: TOTAL NO. of ITERATIONS REACHED LIMIT.\n",
            "\n",
            "Increase the number of iterations (max_iter) or scale the data as shown in:\n",
            "    https://scikit-learn.org/stable/modules/preprocessing.html\n",
            "Please also refer to the documentation for alternative solver options:\n",
            "    https://scikit-learn.org/stable/modules/linear_model.html#logistic-regression\n",
            "  n_iter_i = _check_optimize_result(\n"
          ]
        },
        {
          "output_type": "stream",
          "name": "stdout",
          "text": [
            "LogisticRegression Mean Score: 0.943766495885732\n",
            "SVC Mean Score: 0.9121720229777983\n"
          ]
        },
        {
          "output_type": "stream",
          "name": "stderr",
          "text": [
            "/usr/local/lib/python3.10/dist-packages/sklearn/linear_model/_logistic.py:458: ConvergenceWarning: lbfgs failed to converge (status=1):\n",
            "STOP: TOTAL NO. of ITERATIONS REACHED LIMIT.\n",
            "\n",
            "Increase the number of iterations (max_iter) or scale the data as shown in:\n",
            "    https://scikit-learn.org/stable/modules/preprocessing.html\n",
            "Please also refer to the documentation for alternative solver options:\n",
            "    https://scikit-learn.org/stable/modules/linear_model.html#logistic-regression\n",
            "  n_iter_i = _check_optimize_result(\n",
            "/usr/local/lib/python3.10/dist-packages/sklearn/linear_model/_logistic.py:458: ConvergenceWarning: lbfgs failed to converge (status=1):\n",
            "STOP: TOTAL NO. of ITERATIONS REACHED LIMIT.\n",
            "\n",
            "Increase the number of iterations (max_iter) or scale the data as shown in:\n",
            "    https://scikit-learn.org/stable/modules/preprocessing.html\n",
            "Please also refer to the documentation for alternative solver options:\n",
            "    https://scikit-learn.org/stable/modules/linear_model.html#logistic-regression\n",
            "  n_iter_i = _check_optimize_result(\n"
          ]
        }
      ]
    },
    {
      "cell_type": "markdown",
      "source": [
        "## Дополнительные задания\n",
        "Исследование влияния различных параметров кросс-валидации:\n",
        "* Измените количество разбиений (cv) и стратегию разбиения (например, Stratified K-Fold) и оцените их влияние на производительность модели."
      ],
      "metadata": {
        "id": "kzm5J3eFdNLL"
      }
    },
    {
      "cell_type": "code",
      "source": [
        "from sklearn.model_selection import StratifiedKFold\n",
        "\n",
        "# Stratified K-Fold кросс-валидация\n",
        "skf = StratifiedKFold(n_splits=5)\n",
        "cv_scores_stratified = cross_val_score(model, X, y, cv=skf)\n",
        "\n",
        "print(\"Stratified K-Fold Cross-Validation Mean Score:\", cv_scores_stratified.mean())"
      ],
      "metadata": {
        "colab": {
          "base_uri": "https://localhost:8080/"
        },
        "id": "TdOegN0UdK9g",
        "outputId": "3c352c3d-9f60-420b-8cf6-b4bca2cd0dd1"
      },
      "execution_count": 5,
      "outputs": [
        {
          "output_type": "stream",
          "name": "stdout",
          "text": [
            "Stratified K-Fold Cross-Validation Mean Score: 0.9121720229777983\n"
          ]
        }
      ]
    },
    {
      "cell_type": "markdown",
      "source": [
        "## Реализация кросс-валидации с использованием различных метрик оценки качества модели:\n",
        "Используйте различные метрики оценки, такие как precision, recall и f1-score."
      ],
      "metadata": {
        "id": "9r7oLrNkdUV_"
      }
    },
    {
      "cell_type": "code",
      "source": [
        "from sklearn.metrics import make_scorer, precision_score, recall_score, f1_score\n",
        "\n",
        "# Применение кросс-валидации с метрикой precision\n",
        "cv_scores_precision = cross_val_score(model, X, y, cv=5, scoring=make_scorer(precision_score))\n",
        "print(\"Cross-Validation Mean Precision Score:\", cv_scores_precision.mean())\n",
        "\n",
        "# Применение кросс-валидации с метрикой recall\n",
        "cv_scores_recall = cross_val_score(model, X, y, cv=5, scoring=make_scorer(recall_score))\n",
        "print(\"Cross-Validation Mean Recall Score:\", cv_scores_recall.mean())\n",
        "\n",
        "# Применение кросс-валидации с метрикой f1-score\n",
        "cv_scores_f1 = cross_val_score(model, X, y, cv=5, scoring=make_scorer(f1_score))\n",
        "print(\"Cross-Validation Mean F1 Score:\", cv_scores_f1.mean())\n"
      ],
      "metadata": {
        "colab": {
          "base_uri": "https://localhost:8080/"
        },
        "id": "lZZQ1C1cdSZP",
        "outputId": "1a41c28f-146a-45ed-8778-51cb565c0831"
      },
      "execution_count": 6,
      "outputs": [
        {
          "output_type": "stream",
          "name": "stdout",
          "text": [
            "Cross-Validation Mean Precision Score: 0.8928541157791425\n",
            "Cross-Validation Mean Recall Score: 0.9803599374021911\n",
            "Cross-Validation Mean F1 Score: 0.9339140018560181\n"
          ]
        }
      ]
    },
    {
      "cell_type": "markdown",
      "source": [
        "## Заключение\n",
        "В данной практической работе был изучен метод кросс-валидации для оценки производительности модели машинного обучения.\n",
        "\n",
        "На примере данных о раке молочной железы была проведена оценка производительности модели RandomForestClassifier с использованием кросс-валидации.\n",
        "\n",
        "Были также рассмотрены дополнительные задания, такие как исследование влияния различных параметров кросс-валидации и использование различных метрик оценки качества модели."
      ],
      "metadata": {
        "id": "pLkTYj09dZTh"
      }
    }
  ]
}