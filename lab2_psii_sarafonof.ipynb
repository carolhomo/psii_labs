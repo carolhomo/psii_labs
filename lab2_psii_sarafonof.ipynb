{
  "nbformat": 4,
  "nbformat_minor": 0,
  "metadata": {
    "colab": {
      "provenance": []
    },
    "kernelspec": {
      "name": "python3",
      "display_name": "Python 3"
    },
    "language_info": {
      "name": "python"
    }
  },
  "cells": [
    {
      "cell_type": "markdown",
      "source": [
        "# Практическая работа 2. Решетчатый поиск"
      ],
      "metadata": {
        "id": "32fMht0BanaN"
      }
    },
    {
      "cell_type": "markdown",
      "source": [
        "### Цель\n",
        "Изучить метод решетчатого поиска для подбора оптимальных гиперпараметров модели машинного обучения и его применение для улучшения производительности моделей.\n",
        "\n",
        "### Шаги выполнения\n",
        "Изучение метода решетчатого поиска.\n",
        "Применение решетчатого поиска к модели машинного обучения.\n",
        "\n",
        "1.   Изучение метода решетчатого поиска.\n",
        "2.   Применение решетчатого поиска к модели машинного обучения.\n",
        "3.   Оценка производительности модели с оптимальными гиперпараметрами.\n",
        "\n",
        "\n",
        "### Библиотека\n",
        "* scikit-learn\n",
        "\n",
        "\n",
        "## Исходные данные\n",
        "* Набор данных о раке молочной железы из библиотеки scikit-learn.\n",
        "* Изучение метода решетчатого поиска\n",
        "* Решетчатый поиск (Grid Search) — это метод перебора, используемый для настройки гиперпараметров модели машинного обучения. Он осуществляет исчерпывающий поиск по указанной сетке гиперпараметров, чтобы найти комбинацию, обеспечивающую наилучшую производительность модели на обучающем наборе данных с использованием кросс-валидации.\n",
        "\n",
        "## Применение решетчатого поиска к модели машинного обучения"
      ],
      "metadata": {
        "id": "ll0s-NAHY3gL"
      }
    },
    {
      "cell_type": "code",
      "execution_count": 1,
      "metadata": {
        "id": "oxAp4l7TYEZa"
      },
      "outputs": [],
      "source": [
        "from sklearn.datasets import load_breast_cancer\n",
        "from sklearn.model_selection import train_test_split, GridSearchCV\n",
        "from sklearn.ensemble import RandomForestClassifier"
      ]
    },
    {
      "cell_type": "markdown",
      "source": [
        "### Загрузка данных"
      ],
      "metadata": {
        "id": "IDd-_idxZrNP"
      }
    },
    {
      "cell_type": "code",
      "source": [
        "data = load_breast_cancer()\n",
        "X = data.data\n",
        "y = data.target"
      ],
      "metadata": {
        "id": "6fdvEeJXZnSB"
      },
      "execution_count": 2,
      "outputs": []
    },
    {
      "cell_type": "markdown",
      "source": [
        "### Разделение данных на обучающую и тестовую выборки\n"
      ],
      "metadata": {
        "id": "Ph7dZ9sbZz_f"
      }
    },
    {
      "cell_type": "code",
      "source": [
        "X_train, X_test, y_train, y_test = train_test_split(X, y, test_size=0.3, random_state=42)\n"
      ],
      "metadata": {
        "id": "eVC1NCKFZsVg"
      },
      "execution_count": 3,
      "outputs": []
    },
    {
      "cell_type": "code",
      "source": [
        "# Определение модели\n",
        "model = RandomForestClassifier(random_state=42)\n",
        "\n",
        "# Определение сетки параметров для поиска\n",
        "param_grid = {\n",
        "    'n_estimators': [50, 100, 150],\n",
        "    'max_depth': [None, 10, 20],\n",
        "    'min_samples_split': [2, 5, 10],\n",
        "    'min_samples_leaf': [1, 2, 4]\n",
        "}\n",
        "\n",
        "# Инициализация решетчатого поиска\n",
        "grid_search = GridSearchCV(estimator=model, param_grid=param_grid, cv=5, n_jobs=-1)\n",
        "\n",
        "# Подгонка решетчатого поиска к данным\n",
        "grid_search.fit(X_train, y_train)\n",
        "\n",
        "# Вывод наилучших параметров\n",
        "print(\"Best Parameters:\", grid_search.best_params_)\n",
        "# Вывод наилучшей оценки\n",
        "print(\"Best Score:\", grid_search.best_score_)"
      ],
      "metadata": {
        "colab": {
          "base_uri": "https://localhost:8080/"
        },
        "id": "R3XThfFPZ1Bo",
        "outputId": "39d6a44f-3bb3-4740-9d61-8229398e3f67"
      },
      "execution_count": 4,
      "outputs": [
        {
          "output_type": "stream",
          "name": "stdout",
          "text": [
            "Best Parameters: {'max_depth': None, 'min_samples_leaf': 2, 'min_samples_split': 2, 'n_estimators': 150}\n",
            "Best Score: 0.9572468354430379\n"
          ]
        }
      ]
    },
    {
      "cell_type": "markdown",
      "source": [
        "### Оценка производительности модели с оптимальными гиперпараметрами"
      ],
      "metadata": {
        "id": "JQebIKpgZ_QA"
      }
    },
    {
      "cell_type": "code",
      "source": [
        "# Получение наилучшей модели после решетчатого поиска\n",
        "best_model = grid_search.best_estimator_\n",
        "\n",
        "# Оценка производительности модели на тестовом наборе данных\n",
        "accuracy = best_model.score(X_test, y_test)\n",
        "print(\"Test Set Accuracy:\", accuracy)"
      ],
      "metadata": {
        "colab": {
          "base_uri": "https://localhost:8080/"
        },
        "id": "ilcxpbNpZ9sf",
        "outputId": "3e499a9a-5657-4f6a-e173-15e922143085"
      },
      "execution_count": 5,
      "outputs": [
        {
          "output_type": "stream",
          "name": "stdout",
          "text": [
            "Test Set Accuracy: 0.9707602339181286\n"
          ]
        }
      ]
    },
    {
      "cell_type": "markdown",
      "source": [
        "## Дополнительные задания\n",
        "Исследование влияния различных параметров решетчатого поиска:\n",
        "Измените параметры решетчатого поиска, такие как разбиение кросс-валидации (cv) и метрика оценки (scoring), и оцените их влияние на производительность модели."
      ],
      "metadata": {
        "id": "KzgKoFcyaHcb"
      }
    },
    {
      "cell_type": "code",
      "source": [
        "# Изменение параметров решетчатого поиска\n",
        "grid_search_alt = GridSearchCV(estimator=model, param_grid=param_grid, cv=10, scoring='precision', n_jobs=-1)\n",
        "grid_search_alt.fit(X_train, y_train)\n",
        "\n",
        "print(\"Best Parameters with 10-fold CV and Precision Scoring:\", grid_search_alt.best_params_)\n",
        "print(\"Best Score with 10-fold CV and Precision Scoring:\", grid_search_alt.best_score_)\n"
      ],
      "metadata": {
        "colab": {
          "base_uri": "https://localhost:8080/"
        },
        "id": "w0Xtpq-UaDPJ",
        "outputId": "cd18a3b0-8de9-4c98-f05c-2ca141ab6a66"
      },
      "execution_count": 6,
      "outputs": [
        {
          "output_type": "stream",
          "name": "stdout",
          "text": [
            "Best Parameters with 10-fold CV and Precision Scoring: {'max_depth': None, 'min_samples_leaf': 1, 'min_samples_split': 2, 'n_estimators': 50}\n",
            "Best Score with 10-fold CV and Precision Scoring: 0.9602820512820512\n"
          ]
        }
      ]
    },
    {
      "cell_type": "markdown",
      "source": [
        "### Изменение параметров решетчатого поиска"
      ],
      "metadata": {
        "id": "o_EXofpkaPdw"
      }
    },
    {
      "cell_type": "code",
      "source": [
        "grid_search_alt = GridSearchCV(estimator=model, param_grid=param_grid, cv=10, scoring='precision', n_jobs=-1)\n",
        "grid_search_alt.fit(X_train, y_train)\n",
        "\n",
        "print(\"Best Parameters with 10-fold CV and Precision Scoring:\", grid_search_alt.best_params_)\n",
        "print(\"Best Score with 10-fold CV and Precision Scoring:\", grid_search_alt.best_score_)"
      ],
      "metadata": {
        "colab": {
          "base_uri": "https://localhost:8080/"
        },
        "id": "p-PTVdIDaNH4",
        "outputId": "9efdbde5-6d10-41d1-d6cb-68b36c9e625c"
      },
      "execution_count": 7,
      "outputs": [
        {
          "output_type": "stream",
          "name": "stdout",
          "text": [
            "Best Parameters with 10-fold CV and Precision Scoring: {'max_depth': None, 'min_samples_leaf': 1, 'min_samples_split': 2, 'n_estimators': 50}\n",
            "Best Score with 10-fold CV and Precision Scoring: 0.9602820512820512\n"
          ]
        }
      ]
    },
    {
      "cell_type": "markdown",
      "source": [
        "## Реализация параллельного решетчатого поиска:\n",
        "Для ускорения процесса подбора гиперпараметров можно использовать параллельный решетчатый поиск, установив параметр n_jobs=-1, что позволит использовать все доступные процессоры.\n",
        "python\n"
      ],
      "metadata": {
        "id": "VWY9bbR7aUOG"
      }
    },
    {
      "cell_type": "code",
      "source": [
        "# Параллельный решетчатый поиск\n",
        "grid_search_parallel = GridSearchCV(estimator=model, param_grid=param_grid, cv=5, n_jobs=-1)\n",
        "grid_search_parallel.fit(X_train, y_train)\n",
        "\n",
        "print(\"Best Parameters with Parallel Grid Search:\", grid_search_parallel.best_params_)\n",
        "print(\"Best Score with Parallel Grid Search:\", grid_search_parallel.best_score_)\n"
      ],
      "metadata": {
        "colab": {
          "base_uri": "https://localhost:8080/"
        },
        "id": "l11jGuXgaSII",
        "outputId": "b7850f54-47ba-43cf-aca8-1df142a4a686"
      },
      "execution_count": 8,
      "outputs": [
        {
          "output_type": "stream",
          "name": "stdout",
          "text": [
            "Best Parameters with Parallel Grid Search: {'max_depth': None, 'min_samples_leaf': 2, 'min_samples_split': 2, 'n_estimators': 150}\n",
            "Best Score with Parallel Grid Search: 0.9572468354430379\n"
          ]
        }
      ]
    },
    {
      "cell_type": "markdown",
      "source": [
        "## Заключение\n",
        "\n",
        "В данной практической работе был изучен метод решетчатого поиска для подбора оптимальных гиперпараметров модели машинного обучения. На примере данных о раке молочной железы была проведена настройка модели RandomForestClassifier с использованием решетчатого поиска, что позволило улучшить производительность модели.\n",
        "\n",
        "Были также рассмотрены дополнительные задания, такие как исследование влияния различных параметров решетчатого поиска и использование параллельного вычисления для ускорения процесса подбора гиперпараметров.\n",
        "\n",
        "\n",
        "\n",
        "\n",
        "\n",
        "\n",
        "\n"
      ],
      "metadata": {
        "id": "74N_GUjiabAq"
      }
    }
  ]
}