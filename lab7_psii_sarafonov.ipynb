{
  "nbformat": 4,
  "nbformat_minor": 0,
  "metadata": {
    "colab": {
      "provenance": []
    },
    "kernelspec": {
      "name": "python3",
      "display_name": "Python 3"
    },
    "language_info": {
      "name": "python"
    }
  },
  "cells": [
    {
      "cell_type": "markdown",
      "source": [
        "# Практическая работа 7: Работа с текстом. Моделирование тем и кластеризация документов\n",
        "### Цель: Изучить методы моделирования тем и кластеризации документов в текстовых данных и их применение для выявления скрытых тем в коллекции текстов.\n",
        "\n",
        "### Шаги выполнения:\n",
        "Изучение методов моделирования тем и кластеризации документов.\n",
        "\n",
        "### Моделирование тем с помощью LDA (Latent Dirichlet Allocation).\n",
        "### Кластеризация документов с помощью алгоритма K-Means.\n",
        "### Программирование модели LDA для моделирования тем.\n",
        "\n",
        "### Написание кода для создания модели LDA и выделения тем в коллекции текстовых документов.\n",
        "### Программирование кластеризации документов с использованием K-Means.\n",
        "\n",
        "### Написание кода для кластеризации документов с использованием алгоритма K-Means.\n",
        "### Код для выполнения задания\n",
        "### 1. Моделирование тем с использованием LDA"
      ],
      "metadata": {
        "id": "yS1mq4JB6Q2o"
      }
    },
    {
      "cell_type": "code",
      "execution_count": 1,
      "metadata": {
        "colab": {
          "base_uri": "https://localhost:8080/"
        },
        "id": "n-HmdJIn3X4i",
        "outputId": "b42e993a-8a03-4337-91a5-d187a7570999"
      },
      "outputs": [
        {
          "output_type": "stream",
          "name": "stdout",
          "text": [
            "Document 1 Topics: [(0, 0.07483284), (1, 0.92516714)]\n",
            "Document 2 Topics: [(0, 0.0633363), (1, 0.9366637)]\n",
            "Document 3 Topics: [(0, 0.8960166), (1, 0.10398339)]\n",
            "Document 4 Topics: [(0, 0.9345904), (1, 0.06540956)]\n"
          ]
        }
      ],
      "source": [
        "from gensim import corpora\n",
        "from gensim.models import LdaModel\n",
        "from gensim.parsing.preprocessing import preprocess_string\n",
        "\n",
        "# Пример текстовых данных\n",
        "documents = [\n",
        "    \"Natural language processing is a subfield of artificial intelligence.\",\n",
        "    \"Topic modeling is used to discover hidden topics in a collection of text documents.\",\n",
        "    \"K-Means is a popular clustering algorithm.\",\n",
        "    \"Latent Dirichlet Allocation (LDA) is a generative probabilistic model for topics.\"\n",
        "]\n",
        "\n",
        "# Предобработка текстовых данных\n",
        "processed_docs = [preprocess_string(doc) for doc in documents]\n",
        "\n",
        "# Создание словаря\n",
        "dictionary = corpora.Dictionary(processed_docs)\n",
        "\n",
        "# Создание корпуса\n",
        "corpus = [dictionary.doc2bow(doc) for doc in processed_docs]\n",
        "\n",
        "# Определение модели LDA\n",
        "lda_model = LdaModel(corpus, num_topics=2, id2word=dictionary, passes=10)\n",
        "\n",
        "# Вывод тем и их вероятностей для каждого документа\n",
        "for i, doc in enumerate(corpus):\n",
        "    print(f\"Document {i+1} Topics:\", lda_model[doc])\n"
      ]
    },
    {
      "cell_type": "markdown",
      "source": [
        " ### Кластеризация документов с использованием K-Means"
      ],
      "metadata": {
        "id": "5y9SLjZJ8YFl"
      }
    },
    {
      "cell_type": "code",
      "source": [
        "from sklearn.feature_extraction.text import TfidfVectorizer\n",
        "from sklearn.cluster import KMeans\n",
        "\n",
        "# Преобразование текстов в TF-IDF векторы\n",
        "vectorizer = TfidfVectorizer()\n",
        "X = vectorizer.fit_transform(documents)\n",
        "\n",
        "# Определение модели K-Means\n",
        "kmeans_model = KMeans(n_clusters=2, random_state=42)\n",
        "kmeans_model.fit(X)\n",
        "\n",
        "# Вывод меток кластеров для каждого документа\n",
        "print(\"Document Clusters:\", kmeans_model.labels_)\n"
      ],
      "metadata": {
        "colab": {
          "base_uri": "https://localhost:8080/"
        },
        "id": "xa4ZND3F8WOp",
        "outputId": "609fdc94-0f16-4a50-ddde-9c269ee3ddd5"
      },
      "execution_count": 2,
      "outputs": [
        {
          "output_type": "stream",
          "name": "stdout",
          "text": [
            "Document Clusters: [1 1 0 1]\n"
          ]
        },
        {
          "output_type": "stream",
          "name": "stderr",
          "text": [
            "/usr/local/lib/python3.10/dist-packages/sklearn/cluster/_kmeans.py:870: FutureWarning: The default value of `n_init` will change from 10 to 'auto' in 1.4. Set the value of `n_init` explicitly to suppress the warning\n",
            "  warnings.warn(\n"
          ]
        }
      ]
    },
    {
      "cell_type": "markdown",
      "source": [
        "## Дополнительные задания\n",
        "Исследование влияния различного количества тем (для LDA) и кластеров (для K-Means) на результаты моделирования тем и кластеризации документов."
      ],
      "metadata": {
        "id": "p1gQd22e8dk5"
      }
    },
    {
      "cell_type": "code",
      "source": [
        "# Моделирование тем с разным количеством тем для LDA\n",
        "lda_model_3_topics = LdaModel(corpus, num_topics=3, id2word=dictionary, passes=10)\n",
        "for i, doc in enumerate(corpus):\n",
        "    print(f\"Document {i+1} Topics (3 topics):\", lda_model_3_topics[doc])\n",
        "\n",
        "# Кластеризация документов с разным количеством кластеров для K-Means\n",
        "kmeans_model_3_clusters = KMeans(n_clusters=3, random_state=42)\n",
        "kmeans_model_3_clusters.fit(X)\n",
        "print(\"Document Clusters (3 clusters):\", kmeans_model_3_clusters.labels_)\n"
      ],
      "metadata": {
        "colab": {
          "base_uri": "https://localhost:8080/"
        },
        "id": "niZl5bJf8bMw",
        "outputId": "58a3b58d-ea24-4636-bc50-1e6bd179b4dd"
      },
      "execution_count": 3,
      "outputs": [
        {
          "output_type": "stream",
          "name": "stdout",
          "text": [
            "Document 1 Topics (3 topics): [(0, 0.04784381), (1, 0.9042528), (2, 0.04790331)]\n",
            "Document 2 Topics (3 topics): [(0, 0.038212962), (1, 0.03729205), (2, 0.92449504)]\n",
            "Document 3 Topics (3 topics): [(0, 0.8653815), (1, 0.06735711), (2, 0.06726144)]\n",
            "Document 4 Topics (3 topics): [(0, 0.92187774), (1, 0.037419416), (2, 0.040702853)]\n",
            "Document Clusters (3 clusters): [1 1 0 2]\n"
          ]
        }
      ]
    },
    {
      "cell_type": "code",
      "source": [
        "!pip install pyLDAvis"
      ],
      "metadata": {
        "colab": {
          "base_uri": "https://localhost:8080/"
        },
        "id": "V4UZZB-98tgi",
        "outputId": "3fef9f43-d2ff-4cd0-adfa-6b25a9253750"
      },
      "execution_count": 5,
      "outputs": [
        {
          "output_type": "stream",
          "name": "stdout",
          "text": [
            "Collecting pyLDAvis\n",
            "  Downloading pyLDAvis-3.4.1-py3-none-any.whl (2.6 MB)\n",
            "\u001b[2K     \u001b[90m━━━━━━━━━━━━━━━━━━━━━━━━━━━━━━━━━━━━━━━━\u001b[0m \u001b[32m2.6/2.6 MB\u001b[0m \u001b[31m11.3 MB/s\u001b[0m eta \u001b[36m0:00:00\u001b[0m\n",
            "\u001b[?25hRequirement already satisfied: numpy>=1.24.2 in /usr/local/lib/python3.10/dist-packages (from pyLDAvis) (1.25.2)\n",
            "Requirement already satisfied: scipy in /usr/local/lib/python3.10/dist-packages (from pyLDAvis) (1.11.4)\n",
            "Requirement already satisfied: pandas>=2.0.0 in /usr/local/lib/python3.10/dist-packages (from pyLDAvis) (2.0.3)\n",
            "Requirement already satisfied: joblib>=1.2.0 in /usr/local/lib/python3.10/dist-packages (from pyLDAvis) (1.4.2)\n",
            "Requirement already satisfied: jinja2 in /usr/local/lib/python3.10/dist-packages (from pyLDAvis) (3.1.4)\n",
            "Requirement already satisfied: numexpr in /usr/local/lib/python3.10/dist-packages (from pyLDAvis) (2.10.0)\n",
            "Collecting funcy (from pyLDAvis)\n",
            "  Downloading funcy-2.0-py2.py3-none-any.whl (30 kB)\n",
            "Requirement already satisfied: scikit-learn>=1.0.0 in /usr/local/lib/python3.10/dist-packages (from pyLDAvis) (1.2.2)\n",
            "Requirement already satisfied: gensim in /usr/local/lib/python3.10/dist-packages (from pyLDAvis) (4.3.2)\n",
            "Requirement already satisfied: setuptools in /usr/local/lib/python3.10/dist-packages (from pyLDAvis) (67.7.2)\n",
            "Requirement already satisfied: python-dateutil>=2.8.2 in /usr/local/lib/python3.10/dist-packages (from pandas>=2.0.0->pyLDAvis) (2.8.2)\n",
            "Requirement already satisfied: pytz>=2020.1 in /usr/local/lib/python3.10/dist-packages (from pandas>=2.0.0->pyLDAvis) (2023.4)\n",
            "Requirement already satisfied: tzdata>=2022.1 in /usr/local/lib/python3.10/dist-packages (from pandas>=2.0.0->pyLDAvis) (2024.1)\n",
            "Requirement already satisfied: threadpoolctl>=2.0.0 in /usr/local/lib/python3.10/dist-packages (from scikit-learn>=1.0.0->pyLDAvis) (3.5.0)\n",
            "Requirement already satisfied: smart-open>=1.8.1 in /usr/local/lib/python3.10/dist-packages (from gensim->pyLDAvis) (6.4.0)\n",
            "Requirement already satisfied: MarkupSafe>=2.0 in /usr/local/lib/python3.10/dist-packages (from jinja2->pyLDAvis) (2.1.5)\n",
            "Requirement already satisfied: six>=1.5 in /usr/local/lib/python3.10/dist-packages (from python-dateutil>=2.8.2->pandas>=2.0.0->pyLDAvis) (1.16.0)\n",
            "Installing collected packages: funcy, pyLDAvis\n",
            "Successfully installed funcy-2.0 pyLDAvis-3.4.1\n"
          ]
        }
      ]
    },
    {
      "cell_type": "markdown",
      "source": [
        "## Реализация визуализации тем с использованием библиотеки pyLDAvis."
      ],
      "metadata": {
        "id": "9rju3U8E8kSr"
      }
    },
    {
      "cell_type": "code",
      "source": [
        "import pyLDAvis\n",
        "import pyLDAvis.gensim_models as gensimvis\n",
        "\n",
        "# Подготовка данных для визуализации\n",
        "lda_display = gensimvis.prepare(lda_model, corpus, dictionary)\n",
        "\n",
        "# Визуализация\n",
        "pyLDAvis.display(lda_display)"
      ],
      "metadata": {
        "colab": {
          "base_uri": "https://localhost:8080/",
          "height": 881
        },
        "id": "p8QHDMvB8hvI",
        "outputId": "12a4c4d4-67c7-4a38-d522-340f6d6beed4"
      },
      "execution_count": 6,
      "outputs": [
        {
          "output_type": "execute_result",
          "data": {
            "text/plain": [
              "<IPython.core.display.HTML object>"
            ],
            "text/html": [
              "\n",
              "<link rel=\"stylesheet\" type=\"text/css\" href=\"https://cdn.jsdelivr.net/gh/bmabey/pyLDAvis@3.4.0/pyLDAvis/js/ldavis.v1.0.0.css\">\n",
              "\n",
              "\n",
              "<div id=\"ldavis_el1361405491936670081505733828\" style=\"background-color:white;\"></div>\n",
              "<script type=\"text/javascript\">\n",
              "\n",
              "var ldavis_el1361405491936670081505733828_data = {\"mdsDat\": {\"x\": [0.05588816155330647, -0.05588816155330647], \"y\": [0.0, 0.0], \"topics\": [1, 2], \"cluster\": [1, 1], \"Freq\": [53.782539242062995, 46.217460757937005]}, \"tinfo\": {\"Term\": [\"lda\", \"dirichlet\", \"probabilist\", \"latent\", \"gener\", \"alloc\", \"mean\", \"algorithm\", \"popular\", \"cluster\", \"hidden\", \"intellig\", \"subfield\", \"collect\", \"text\", \"discov\", \"artifici\", \"document\", \"process\", \"natur\", \"languag\", \"topic\", \"model\", \"hidden\", \"intellig\", \"subfield\", \"collect\", \"text\", \"discov\", \"artifici\", \"document\", \"process\", \"natur\", \"languag\", \"topic\", \"model\", \"cluster\", \"popular\", \"algorithm\", \"mean\", \"alloc\", \"gener\", \"latent\", \"probabilist\", \"dirichlet\", \"lda\", \"lda\", \"dirichlet\", \"probabilist\", \"latent\", \"gener\", \"alloc\", \"mean\", \"algorithm\", \"popular\", \"cluster\", \"model\", \"topic\", \"languag\", \"natur\", \"process\", \"document\", \"artifici\", \"discov\", \"text\", \"collect\", \"subfield\", \"intellig\", \"hidden\"], \"Freq\": [1.0, 1.0, 1.0, 1.0, 1.0, 1.0, 1.0, 1.0, 1.0, 1.0, 1.0, 1.0, 1.0, 1.0, 1.0, 1.0, 1.0, 1.0, 1.0, 1.0, 1.0, 2.0, 1.0, 0.8197819436986955, 0.8197363107133531, 0.8197289135855921, 0.8197041696723071, 0.8196373871526621, 0.8196368141357229, 0.8196185296861165, 0.8195589880168854, 0.8195374217429907, 0.8193972930551241, 0.8193884373387905, 1.3800733748361989, 0.8195933690332393, 0.27763564091267257, 0.2775378894320846, 0.2774015634929965, 0.27737150614991135, 0.27648218386022405, 0.276401570795364, 0.2763342673512288, 0.27632746928663154, 0.2763061374287574, 0.27626829226454364, 0.765207895414724, 0.765172620516349, 0.7651527448121885, 0.7651463881680651, 0.7650835379684224, 0.7650083326013286, 0.7641785667177268, 0.7641505437654644, 0.7640233213527974, 0.7639321796102956, 0.7697925578410817, 0.7583741448612664, 0.2585096754255203, 0.2585014162646698, 0.2583706797916951, 0.258350602644587, 0.2582949820085072, 0.25827794888816247, 0.25827743408951864, 0.25821516583616894, 0.2581920222797478, 0.2581851956020801, 0.2581425792273936], \"Total\": [1.0, 1.0, 1.0, 1.0, 1.0, 1.0, 1.0, 1.0, 1.0, 1.0, 1.0, 1.0, 1.0, 1.0, 1.0, 1.0, 1.0, 1.0, 1.0, 1.0, 1.0, 2.0, 1.0, 1.077924522926089, 1.077921506315433, 1.0779209358653399, 1.077919335508476, 1.0779148212421807, 1.0779147630238852, 1.0779135116946237, 1.0779095906614724, 1.0779081015346859, 1.0778987093197938, 1.0778981127643108, 2.1384475196974653, 1.589385926874321, 1.0415678205229681, 1.041561210784882, 1.041552107258461, 1.0415500728676381, 1.0414905164615527, 1.0414851087637864, 1.041480655519294, 1.04148021409882, 1.0414787579451064, 1.0414761876792675, 1.0414761876792675, 1.0414787579451064, 1.04148021409882, 1.041480655519294, 1.0414851087637864, 1.0414905164615527, 1.0415500728676381, 1.041552107258461, 1.041561210784882, 1.0415678205229681, 1.589385926874321, 2.1384475196974653, 1.0778981127643108, 1.0778987093197938, 1.0779081015346859, 1.0779095906614724, 1.0779135116946237, 1.0779147630238852, 1.0779148212421807, 1.077919335508476, 1.0779209358653399, 1.077921506315433, 1.077924522926089], \"Category\": [\"Default\", \"Default\", \"Default\", \"Default\", \"Default\", \"Default\", \"Default\", \"Default\", \"Default\", \"Default\", \"Default\", \"Default\", \"Default\", \"Default\", \"Default\", \"Default\", \"Default\", \"Default\", \"Default\", \"Default\", \"Default\", \"Default\", \"Default\", \"Topic1\", \"Topic1\", \"Topic1\", \"Topic1\", \"Topic1\", \"Topic1\", \"Topic1\", \"Topic1\", \"Topic1\", \"Topic1\", \"Topic1\", \"Topic1\", \"Topic1\", \"Topic1\", \"Topic1\", \"Topic1\", \"Topic1\", \"Topic1\", \"Topic1\", \"Topic1\", \"Topic1\", \"Topic1\", \"Topic1\", \"Topic2\", \"Topic2\", \"Topic2\", \"Topic2\", \"Topic2\", \"Topic2\", \"Topic2\", \"Topic2\", \"Topic2\", \"Topic2\", \"Topic2\", \"Topic2\", \"Topic2\", \"Topic2\", \"Topic2\", \"Topic2\", \"Topic2\", \"Topic2\", \"Topic2\", \"Topic2\", \"Topic2\", \"Topic2\", \"Topic2\"], \"logprob\": [23.0, 22.0, 21.0, 20.0, 19.0, 18.0, 17.0, 16.0, 15.0, 14.0, 13.0, 12.0, 11.0, 10.0, 9.0, 8.0, 7.0, 6.0, 5.0, 4.0, 3.0, 2.0, 1.0, -2.8366, -2.8366, -2.8367, -2.8367, -2.8368, -2.8368, -2.8368, -2.8369, -2.8369, -2.8371, -2.8371, -2.3157, -2.8368, -3.9193, -3.9197, -3.9202, -3.9203, -3.9235, -3.9238, -3.924, -3.924, -3.9241, -3.9243, -2.7539, -2.7539, -2.754, -2.754, -2.7541, -2.7542, -2.7552, -2.7553, -2.7554, -2.7556, -2.7479, -2.7629, -3.8391, -3.8391, -3.8396, -3.8397, -3.8399, -3.84, -3.84, -3.8402, -3.8403, -3.8404, -3.8405], \"loglift\": [23.0, 22.0, 21.0, 20.0, 19.0, 18.0, 17.0, 16.0, 15.0, 14.0, 13.0, 12.0, 11.0, 10.0, 9.0, 8.0, 7.0, 6.0, 5.0, 4.0, 3.0, 2.0, 1.0, 0.3465, 0.3464, 0.3464, 0.3464, 0.3463, 0.3463, 0.3463, 0.3462, 0.3462, 0.346, 0.346, 0.1823, -0.0421, -0.702, -0.7023, -0.7028, -0.7029, -0.706, -0.7063, -0.7066, -0.7066, -0.7067, -0.7068, 0.4636, 0.4635, 0.4635, 0.4635, 0.4634, 0.4633, 0.4621, 0.4621, 0.4619, 0.4618, 0.0468, -0.2648, -0.656, -0.6561, -0.6566, -0.6566, -0.6569, -0.6569, -0.6569, -0.6572, -0.6573, -0.6573, -0.6575]}, \"token.table\": {\"Topic\": [2, 2, 1, 2, 1, 2, 1, 1, 2, 1, 1, 1, 2, 2, 2, 1, 2, 1, 2, 2, 1, 1, 1, 1, 2], \"Freq\": [0.960105589563029, 0.9601623674860564, 0.9277182159335462, 0.9600911052512192, 0.9277132036306596, 0.9601732079231782, 0.9277171389643926, 0.9277215906264809, 0.9601673529321719, 0.9277087390919001, 0.9277113353255327, 0.9277314693830031, 0.9601714584908817, 0.9601755775408659, 0.9601074648737331, 0.6291738105210202, 0.6291738105210202, 0.9277309559365261, 0.9600971979807477, 0.9601718654494917, 0.9277228722710562, 0.9277118262827078, 0.9277170888582901, 0.46762896483963, 0.46762896483963], \"Term\": [\"algorithm\", \"alloc\", \"artifici\", \"cluster\", \"collect\", \"dirichlet\", \"discov\", \"document\", \"gener\", \"hidden\", \"intellig\", \"languag\", \"latent\", \"lda\", \"mean\", \"model\", \"model\", \"natur\", \"popular\", \"probabilist\", \"process\", \"subfield\", \"text\", \"topic\", \"topic\"]}, \"R\": 23, \"lambda.step\": 0.01, \"plot.opts\": {\"xlab\": \"PC1\", \"ylab\": \"PC2\"}, \"topic.order\": [2, 1]};\n",
              "\n",
              "function LDAvis_load_lib(url, callback){\n",
              "  var s = document.createElement('script');\n",
              "  s.src = url;\n",
              "  s.async = true;\n",
              "  s.onreadystatechange = s.onload = callback;\n",
              "  s.onerror = function(){console.warn(\"failed to load library \" + url);};\n",
              "  document.getElementsByTagName(\"head\")[0].appendChild(s);\n",
              "}\n",
              "\n",
              "if(typeof(LDAvis) !== \"undefined\"){\n",
              "   // already loaded: just create the visualization\n",
              "   !function(LDAvis){\n",
              "       new LDAvis(\"#\" + \"ldavis_el1361405491936670081505733828\", ldavis_el1361405491936670081505733828_data);\n",
              "   }(LDAvis);\n",
              "}else if(typeof define === \"function\" && define.amd){\n",
              "   // require.js is available: use it to load d3/LDAvis\n",
              "   require.config({paths: {d3: \"https://d3js.org/d3.v5\"}});\n",
              "   require([\"d3\"], function(d3){\n",
              "      window.d3 = d3;\n",
              "      LDAvis_load_lib(\"https://cdn.jsdelivr.net/gh/bmabey/pyLDAvis@3.4.0/pyLDAvis/js/ldavis.v3.0.0.js\", function(){\n",
              "        new LDAvis(\"#\" + \"ldavis_el1361405491936670081505733828\", ldavis_el1361405491936670081505733828_data);\n",
              "      });\n",
              "    });\n",
              "}else{\n",
              "    // require.js not available: dynamically load d3 & LDAvis\n",
              "    LDAvis_load_lib(\"https://d3js.org/d3.v5.js\", function(){\n",
              "         LDAvis_load_lib(\"https://cdn.jsdelivr.net/gh/bmabey/pyLDAvis@3.4.0/pyLDAvis/js/ldavis.v3.0.0.js\", function(){\n",
              "                 new LDAvis(\"#\" + \"ldavis_el1361405491936670081505733828\", ldavis_el1361405491936670081505733828_data);\n",
              "            })\n",
              "         });\n",
              "}\n",
              "</script>"
            ]
          },
          "metadata": {},
          "execution_count": 6
        }
      ]
    },
    {
      "cell_type": "markdown",
      "source": [
        "## Заключение\n",
        "### В данной практической работе мы:\n",
        "\n",
        "### Изучили методы моделирования тем и кластеризации документов.\n",
        "### Создали модель LDA для выделения тем в коллекции текстовых документов.\n",
        "### Применили алгоритм K-Means для кластеризации документов.\n",
        "### Провели дополнительные задания для исследования влияния различных параметров на результаты и реализовали визуализацию тем."
      ],
      "metadata": {
        "id": "GNqyiUEz87_T"
      }
    }
  ]
}