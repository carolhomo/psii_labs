{
  "nbformat": 4,
  "nbformat_minor": 0,
  "metadata": {
    "colab": {
      "provenance": []
    },
    "kernelspec": {
      "name": "python3",
      "display_name": "Python 3"
    },
    "language_info": {
      "name": "python"
    }
  },
  "cells": [
    {
      "cell_type": "markdown",
      "source": [
        "# Практическая работа 4: Конвейеры алгоритмов"
      ],
      "metadata": {
        "id": "JLKHZR38fq_J"
      }
    },
    {
      "cell_type": "markdown",
      "source": [
        "## Цель\n",
        "Изучить концепцию конвейеров алгоритмов (pipelines) в машинном обучении и их применение для автоматизации последовательных этапов обработки данных.\n",
        "\n",
        "## Шаги выполнения\n",
        "* Изучение концепции конвейеров алгоритмов.\n",
        "* Программирование конвейера алгоритмов в Python.\n",
        "* Изучение влияния этапов конвейера на производительность модели.\n",
        "\n",
        "## Дополнительные задания.\n",
        "### Библиотека\n",
        "scikit-learn\n",
        "\n",
        "## Исходные данные\n",
        "* Набор данных о раке молочной железы из библиотеки scikit-learn.\n",
        "* Изучение концепции конвейеров алгоритмов\n",
        "* Конвейеры алгоритмов (pipelines) позволяют автоматизировать последовательные этапы обработки данных и обучения моделей. Основная идея заключается в объединении нескольких шагов обработки данных и моделей в единую структуру, что упрощает процесс и уменьшает вероятность ошибок."
      ],
      "metadata": {
        "id": "L6ObIdqmfuj_"
      }
    },
    {
      "cell_type": "code",
      "execution_count": 1,
      "metadata": {
        "id": "bQ5EqP1tfbvs"
      },
      "outputs": [],
      "source": [
        "from sklearn.pipeline import Pipeline\n",
        "from sklearn.preprocessing import StandardScaler\n",
        "from sklearn.decomposition import PCA\n",
        "from sklearn.ensemble import RandomForestClassifier\n",
        "from sklearn.datasets import load_breast_cancer\n",
        "from sklearn.model_selection import train_test_split\n",
        "\n",
        "# Загрузка данных\n",
        "data = load_breast_cancer()\n",
        "X = data.data\n",
        "y = data.target\n"
      ]
    },
    {
      "cell_type": "code",
      "source": [
        "# Разделение данных на обучающий и тестовый наборы\n",
        "X_train, X_test, y_train, y_test = train_test_split(X, y, test_size=0.2, random_state=42)\n",
        "\n",
        "# Определение конвейера алгоритмов\n",
        "pipeline = Pipeline([\n",
        "    ('scaler', StandardScaler()),  # этап предобработки данных: стандартизация\n",
        "    ('pca', PCA(n_components=2)),  # этап уменьшения размерности\n",
        "    ('classifier', RandomForestClassifier(n_estimators=100, random_state=42))  # этап обучения модели\n",
        "])\n",
        "\n",
        "# Обучение модели с использованием конвейера алгоритмов\n",
        "pipeline.fit(X_train, y_train)\n",
        "\n",
        "# Оценка производительности модели на тестовом наборе данных\n",
        "accuracy = pipeline.score(X_test, y_test)\n",
        "print(f'Pipeline Accuracy: {accuracy}')"
      ],
      "metadata": {
        "colab": {
          "base_uri": "https://localhost:8080/"
        },
        "id": "hLatDX9Gf92I",
        "outputId": "47970eab-6b9d-43bd-a774-7b14cbf7bccc"
      },
      "execution_count": 2,
      "outputs": [
        {
          "output_type": "stream",
          "name": "stdout",
          "text": [
            "Pipeline Accuracy: 0.9824561403508771\n"
          ]
        }
      ]
    },
    {
      "cell_type": "markdown",
      "source": [
        "## Изучение влияния этапов конвейера на производительность модели"
      ],
      "metadata": {
        "id": "t3Esw9rDgGp6"
      }
    },
    {
      "cell_type": "code",
      "source": [
        "# Оценка производительности модели без предобработки данных\n",
        "pipeline_without_scaling = Pipeline([\n",
        "    ('pca', PCA(n_components=2)),\n",
        "    ('classifier', RandomForestClassifier(n_estimators=100, random_state=42))\n",
        "])\n",
        "pipeline_without_scaling.fit(X_train, y_train)\n",
        "accuracy_without_scaling = pipeline_without_scaling.score(X_test, y_test)\n",
        "print(f'Pipeline without Scaling Accuracy: {accuracy_without_scaling}')"
      ],
      "metadata": {
        "colab": {
          "base_uri": "https://localhost:8080/"
        },
        "id": "u0-3IZcngA-_",
        "outputId": "9822ccba-6394-4139-8bb3-604cfbe5a7ea"
      },
      "execution_count": 3,
      "outputs": [
        {
          "output_type": "stream",
          "name": "stdout",
          "text": [
            "Pipeline without Scaling Accuracy: 0.956140350877193\n"
          ]
        }
      ]
    },
    {
      "cell_type": "markdown",
      "source": [
        "## Дополнительные задания\n",
        "Исследование влияния параметров каждого этапа конвейера на производительность модели:\n",
        "Измените параметры каждого этапа конвейера и оцените их влияние на производительность модели."
      ],
      "metadata": {
        "id": "f80C3gvUh_LL"
      }
    },
    {
      "cell_type": "code",
      "source": [
        "# Изменение параметров конвейера\n",
        "pipeline_alt = Pipeline([\n",
        "    ('scaler', StandardScaler()),\n",
        "    ('pca', PCA(n_components=5)),  # изменение количества компонент PCA\n",
        "    ('classifier', RandomForestClassifier(n_estimators=200, random_state=42))  # изменение числа деревьев\n",
        "])\n",
        "pipeline_alt.fit(X_train, y_train)\n",
        "accuracy_alt = pipeline_alt.score(X_test, y_test)\n",
        "print(f'Pipeline with Alternative Parameters Accuracy: {accuracy_alt}')"
      ],
      "metadata": {
        "colab": {
          "base_uri": "https://localhost:8080/"
        },
        "id": "3As7khu5h9Fn",
        "outputId": "20facbe0-d67e-42f6-bbc6-c9e421e6aa38"
      },
      "execution_count": 4,
      "outputs": [
        {
          "output_type": "stream",
          "name": "stdout",
          "text": [
            "Pipeline with Alternative Parameters Accuracy: 0.956140350877193\n"
          ]
        }
      ]
    },
    {
      "cell_type": "markdown",
      "source": [
        "### Реализация кросс-валидации с использованием конвейеров алгоритмов для оценки производительности модели:"
      ],
      "metadata": {
        "id": "LiGgqfhHiIAT"
      }
    },
    {
      "cell_type": "code",
      "source": [
        "from sklearn.model_selection import cross_val_score\n",
        "\n",
        "# Применение кросс-валидации к конвейеру\n",
        "cv_scores = cross_val_score(pipeline, X, y, cv=5)\n",
        "print(f'Pipeline Cross-Validation Mean Score: {cv_scores.mean()}')\n",
        "\n",
        "# Применение кросс-валидации к конвейеру без стандартизации\n",
        "cv_scores_without_scaling = cross_val_score(pipeline_without_scaling, X, y, cv=5)\n",
        "print(f'Pipeline without Scaling Cross-Validation Mean Score: {cv_scores_without_scaling.mean()}')"
      ],
      "metadata": {
        "colab": {
          "base_uri": "https://localhost:8080/"
        },
        "id": "m0YuR7FyiGSG",
        "outputId": "57a6fa00-3555-430f-da73-a4d133c9b883"
      },
      "execution_count": 6,
      "outputs": [
        {
          "output_type": "stream",
          "name": "stdout",
          "text": [
            "Pipeline Cross-Validation Mean Score: 0.9367334264865704\n",
            "Pipeline without Scaling Cross-Validation Mean Score: 0.924468250271697\n"
          ]
        }
      ]
    },
    {
      "cell_type": "markdown",
      "source": [
        "## Заключение\n",
        "В данной практической работе была изучена концепция конвейеров алгоритмов для автоматизации этапов обработки данных и обучения моделей.\n",
        "\n",
        "На примере данных о раке молочной железы были созданы и обучены конвейеры, включающие этапы стандартизации, уменьшения размерности и обучения модели.\n",
        "\n",
        "Были также исследованы влияние различных этапов и параметров конвейера на производительность модели и применена кросс-валидация для оценки производительности."
      ],
      "metadata": {
        "id": "xdoq0dKCiLlD"
      }
    }
  ]
}